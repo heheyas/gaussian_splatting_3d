{
 "cells": [
  {
   "cell_type": "code",
   "execution_count": null,
   "metadata": {},
   "outputs": [],
   "source": [
    "import os\n",
    "os.environ[\"CUDA_VISIBLE_DEVICES\"] = \"2\"\n",
    "import sys\n",
    "sys.path.append(\"..\")\n",
    "sys.path.append(\"../..\")\n",
    "import numpy as np\n",
    "import torch\n",
    "from provider import CameraPoseProvider\n",
    "import trimesh\n",
    "from trimesh.viewer import scene_to_notebook\n",
    "from omegaconf import OmegaConf\n",
    "from gs.sh_renderer import SHRenderer\n",
    "from utils.misc import save_img\n",
    "from gs.initialize import alpha_center_anealing_init\n",
    "from einops import repeat"
   ]
  },
  {
   "cell_type": "code",
   "execution_count": null,
   "metadata": {},
   "outputs": [],
   "source": [
    "pts = torch.load(\"../../tmp/debug/pts.pt\").cpu().numpy()\n",
    "color = alpha_center_anealing_init(torch.from_numpy(pts), alpha_max=1.0)\n",
    "color = (repeat(color, \"n -> n c\", c=3).numpy() * 255).astype(np.uint8)\n",
    "pcd = trimesh.points.PointCloud(pts, colors=color)\n",
    "scene = trimesh.Scene(pcd)\n",
    "scene_to_notebook(scene)"
   ]
  },
  {
   "cell_type": "code",
   "execution_count": null,
   "metadata": {},
   "outputs": [],
   "source": []
  }
 ],
 "metadata": {
  "kernelspec": {
   "display_name": "gs",
   "language": "python",
   "name": "python3"
  },
  "language_info": {
   "codemirror_mode": {
    "name": "ipython",
    "version": 3
   },
   "file_extension": ".py",
   "mimetype": "text/x-python",
   "name": "python",
   "nbconvert_exporter": "python",
   "pygments_lexer": "ipython3",
   "version": "3.9.16"
  },
  "orig_nbformat": 4
 },
 "nbformat": 4,
 "nbformat_minor": 2
}
