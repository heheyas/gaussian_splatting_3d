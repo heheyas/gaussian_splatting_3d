{
 "cells": [
  {
   "cell_type": "code",
   "execution_count": null,
   "metadata": {},
   "outputs": [],
   "source": [
    "import os\n",
    "os.environ[\"CUDA_VISIBLE_DEVICES\"] = \"2\"\n",
    "import sys\n",
    "sys.path.append(\"..\")\n",
    "sys.path.append(\"../..\")\n",
    "import numpy as np\n",
    "import torch\n",
    "from provider import CameraPoseProvider\n",
    "import trimesh\n",
    "from trimesh.viewer import scene_to_notebook\n",
    "from omegaconf import OmegaConf\n",
    "from gs.sh_renderer import SHRenderer\n",
    "from utils.misc import save_img"
   ]
  },
  {
   "cell_type": "code",
   "execution_count": null,
   "metadata": {},
   "outputs": [],
   "source": [
    "cfg = OmegaConf.load(\"../../conf/generative.yaml\")\n",
    "c2ws = []\n",
    "camera_infos = []\n",
    "provider = CameraPoseProvider(cfg)\n",
    "for i in range(1000):\n",
    "    out = provider.sample_one(1000)\n",
    "    c2ws.append(out[1])\n",
    "    camera_infos.append(out[0])\n",
    "\n",
    "pos = torch.stack(c2ws, dim=0)[:, :3, 3].numpy()"
   ]
  },
  {
   "cell_type": "code",
   "execution_count": null,
   "metadata": {},
   "outputs": [],
   "source": [
    "def visualize_poses(poses, size=0.1, show=False):\n",
    "    # poses: [B, 4, 4]\n",
    "\n",
    "    axes = trimesh.creation.axis(axis_length=4)\n",
    "    box = trimesh.primitives.Box(extents=(2, 2, 2)).as_outline()\n",
    "    box.colors = np.array([[128, 128, 128]] * len(box.entities))\n",
    "    objects = [axes, box]\n",
    "\n",
    "    for pose in poses:\n",
    "        # a camera is visualized with 8 line segments.\n",
    "        pos = pose[:3, 3]\n",
    "        a = pos + size * pose[:3, 0] + size * pose[:3, 1] + size * pose[:3, 2]\n",
    "        b = pos - size * pose[:3, 0] + size * pose[:3, 1] + size * pose[:3, 2]\n",
    "        c = pos - size * pose[:3, 0] - size * pose[:3, 1] + size * pose[:3, 2]\n",
    "        d = pos + size * pose[:3, 0] - size * pose[:3, 1] + size * pose[:3, 2]\n",
    "\n",
    "        dir = (a + b + c + d) / 4 - pos\n",
    "        dir = dir / (np.linalg.norm(dir) + 1e-8)\n",
    "        o = pos + dir * 3\n",
    "\n",
    "        segs = np.array([[pos, a], [pos, b], [pos, c], [pos, d], [a, b], [b, c], [c, d], [d, a], [pos, o]])\n",
    "        segs = trimesh.load_path(segs)\n",
    "        segs.colors = np.array([[255, 0, 0]] * len(segs.entities))\n",
    "        objects.append(segs)\n",
    "\n",
    "    return trimesh.Scene(objects)"
   ]
  },
  {
   "cell_type": "code",
   "execution_count": null,
   "metadata": {},
   "outputs": [],
   "source": [
    "poses = torch.stack(c2ws, dim=0).cpu().numpy()\n",
    "poses_scene = visualize_poses(poses)\n",
    "scene_to_notebook(poses_scene)"
   ]
  },
  {
   "cell_type": "code",
   "execution_count": null,
   "metadata": {},
   "outputs": [],
   "source": [
    "print(poses[..., :1, :].shape)\n",
    "pose4x4 = np.concatenate([poses, np.zeros_like(poses[..., :1, :])], axis=1)\n",
    "axes = []\n",
    "for pose in pose4x4:\n",
    "    axis = trimesh.creation.axis(transform=pose, axis_length=0.2)\n",
    "    axes.append(axis)\n",
    "\n",
    "scene = trimesh.Scene(axes)\n",
    "scene_to_notebook(scene)"
   ]
  },
  {
   "cell_type": "code",
   "execution_count": null,
   "metadata": {},
   "outputs": [],
   "source": [
    "cfg = OmegaConf.load(\"../../conf/generative.yaml\")\n",
    "c2ws = []\n",
    "camera_infos = []\n",
    "provider = CameraPoseProvider(cfg)\n",
    "for i in range(1000):\n",
    "    out = provider.sample_one(1000)\n",
    "    c2ws.append(out[1])\n",
    "    camera_infos.append(out[0])\n",
    "\n",
    "pos = torch.stack(c2ws, dim=0)[:, :3, 3].numpy()\n",
    "scene = trimesh.Scene()\n",
    "pcd = trimesh.points.PointCloud(vertices=pos, colors=np.zeros_like(pos, dtype=np.uint8))\n",
    "scene.add_geometry(pcd)\n",
    "n_obj_pts = 1000\n",
    "object_pts = np.random.randn(n_obj_pts, 3) * cfg.camera_pose_provider.center_jittor_std + np.array(cfg.camera_pose_provider.center)\n",
    "obj_pcd = trimesh.points.PointCloud(vertices=object_pts, colors=np.zeros_like(object_pts, dtype=np.uint8))\n",
    "scene.add_geometry(obj_pcd)\n",
    "\n",
    "pts = torch.load(\"../../tmp/debug/pts.pt\").cpu().numpy()\n",
    "rgb = (np.random.rand(*pts.shape) * 255.).astype(np.uint8)\n",
    "\n",
    "ppcd = trimesh.points.PointCloud(vertices=pts, colors=rgb)\n",
    "# scene.add_geometry(ppcd)\n",
    "scene.add_geometry(trimesh.creation.axis())\n",
    "\n",
    "xxx = np.linspace(0, 10, 1000)\n",
    "yyy = np.zeros_like(xxx)\n",
    "zzz = np.zeros_like(xxx)\n",
    "\n",
    "x_axis = trimesh.points.PointCloud(np.stack([xxx, yyy, zzz], axis=1), colors=np.array([255, 0, 0]))\n",
    "scene.add_geometry(x_axis)\n",
    "x_axis = trimesh.points.PointCloud(np.stack([xxx, yyy, zzz], axis=1), colors=np.array([255, 0, 0]))\n",
    "\n",
    "yyy = np.linspace(0, 10, 1000)\n",
    "xxx = np.zeros_like(yyy)\n",
    "zzz = np.zeros_like(yyy)\n",
    "y_axis = trimesh.points.PointCloud(np.stack([xxx, yyy, zzz], axis=1), colors=np.array([0, 255, 0]))\n",
    "scene.add_geometry(y_axis)\n",
    "\n",
    "box = trimesh.primitives.Box(extents=(2, 2, 2)).as_outline()\n",
    "box.colors = np.array([[128, 128, 128]] * len(box.entities))\n",
    "scene.add_geometry(box)\n",
    "\n",
    "\n",
    "# size = 10\n",
    "# cams = []\n",
    "# for pose in c2ws:\n",
    "#     pose = pose.cpu().numpy()\n",
    "#     pos = pose[:3, 3]\n",
    "#     a = pos + size * pose[:3, 0] + size * pose[:3, 1] - size * pose[:3, 2]\n",
    "#     b = pos - size * pose[:3, 0] + size * pose[:3, 1] - size * pose[:3, 2]\n",
    "#     c = pos - size * pose[:3, 0] - size * pose[:3, 1] - size * pose[:3, 2]\n",
    "#     d = pos + size * pose[:3, 0] - size * pose[:3, 1] - size * pose[:3, 2]\n",
    "\n",
    "#     dir = (a + b + c + d) / 4 - pos\n",
    "#     dir = dir / (np.linalg.norm(dir) + 1e-8)\n",
    "#     o = pos + dir * 3\n",
    "\n",
    "#     segs = np.array([[pos, a], [pos, b], [pos, c], [pos, d], [a, b], [b, c], [c, d], [d, a], [pos, o]])\n",
    "#     segs = trimesh.load_path(segs)\n",
    "#     cams.append(segs)\n",
    "\n",
    "# scene.add_geometry(cams)\n",
    "\n",
    "scene.show(viewer=None, flags={\"axis\": True, 'wireframe': True})\n",
    "# trimesh.viewer.notebook.scene_to_notebook(scene, axis=True)"
   ]
  },
  {
   "cell_type": "code",
   "execution_count": null,
   "metadata": {},
   "outputs": [],
   "source": [
    "cfg.alpha_init = 0.999\n",
    "cfg.skip_frustum_culling = True\n",
    "renderer = SHRenderer(cfg, torch.from_numpy(pts), torch.from_numpy(rgb)).to(\"cuda\")\n",
    "for i, (c2w, camera_info) in enumerate(zip(c2ws, camera_infos)):\n",
    "    out = renderer(c2w.cuda(), camera_info)\n",
    "    save_img(out, \"../../tmp/debug\", f\"{i:03d}.png\")"
   ]
  },
  {
   "cell_type": "code",
   "execution_count": null,
   "metadata": {},
   "outputs": [],
   "source": []
  },
  {
   "attachments": {},
   "cell_type": "markdown",
   "metadata": {},
   "source": []
  }
 ],
 "metadata": {
  "kernelspec": {
   "display_name": "gs",
   "language": "python",
   "name": "python3"
  },
  "language_info": {
   "codemirror_mode": {
    "name": "ipython",
    "version": 3
   },
   "file_extension": ".py",
   "mimetype": "text/x-python",
   "name": "python",
   "nbconvert_exporter": "python",
   "pygments_lexer": "ipython3",
   "version": "3.9.16"
  },
  "orig_nbformat": 4
 },
 "nbformat": 4,
 "nbformat_minor": 2
}
