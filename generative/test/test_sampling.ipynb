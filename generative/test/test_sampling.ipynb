{
 "cells": [
  {
   "cell_type": "code",
   "execution_count": null,
   "metadata": {},
   "outputs": [],
   "source": [
    "import os\n",
    "os.environ[\"CUDA_VISIBLE_DEVICES\"] = \"2\"\n",
    "import sys\n",
    "sys.path.append(\"..\")\n",
    "sys.path.append(\"../..\")\n",
    "import numpy as np\n",
    "import torch\n",
    "from provider import CameraPoseProvider\n",
    "import trimesh\n",
    "from trimesh.viewer import scene_to_notebook\n",
    "from omegaconf import OmegaConf\n",
    "from gs.sh_renderer import SHRenderer\n",
    "from utils.misc import save_img"
   ]
  },
  {
   "cell_type": "code",
   "execution_count": null,
   "metadata": {},
   "outputs": [],
   "source": [
    "def spherical_to_cartesian(r, theta, phi):\n",
    "    x = r * np.sin(theta) * np.cos(phi)\n",
    "    y = r * np.sin(theta) * np.sin(phi)\n",
    "    z = r * np.cos(theta)\n",
    "    return np.stack([x, y, z], axis=-1)"
   ]
  },
  {
   "cell_type": "code",
   "execution_count": null,
   "metadata": {},
   "outputs": [],
   "source": [
    "phi_bnds = 10\n",
    "size = 10000\n",
    "\n",
    "phi = np.random.uniform(-phi_bnds, phi_bnds, size=size)\n",
    "phi = np.deg2rad(phi)\n",
    "theta = np.arccos(1 - np.random.rand(size))\n",
    "r = 2\n",
    "points = spherical_to_cartesian(r, theta, phi)"
   ]
  },
  {
   "cell_type": "code",
   "execution_count": null,
   "metadata": {},
   "outputs": [],
   "source": [
    "pcd = trimesh.points.PointCloud(points, colors=np.zeros_like(points, dtype=np.uint8))\n",
    "scene = trimesh.Scene(pcd)\n",
    "scene_to_notebook(scene)"
   ]
  },
  {
   "cell_type": "code",
   "execution_count": null,
   "metadata": {},
   "outputs": [],
   "source": []
  }
 ],
 "metadata": {
  "kernelspec": {
   "display_name": "gs",
   "language": "python",
   "name": "python3"
  },
  "language_info": {
   "codemirror_mode": {
    "name": "ipython",
    "version": 3
   },
   "file_extension": ".py",
   "mimetype": "text/x-python",
   "name": "python",
   "nbconvert_exporter": "python",
   "pygments_lexer": "ipython3",
   "version": "3.9.16"
  },
  "orig_nbformat": 4
 },
 "nbformat": 4,
 "nbformat_minor": 2
}
