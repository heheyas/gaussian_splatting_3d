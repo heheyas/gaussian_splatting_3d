{
 "cells": [
  {
   "cell_type": "code",
   "execution_count": 4,
   "metadata": {},
   "outputs": [],
   "source": [
    "import sys\n",
    "sys.path.append(\"..\")\n",
    "from utils.colmap.read import read_points3D_binary, read_cameras_binary, read_images_binary\n",
    "cam_bin = \"../data/floating-tree/colmap/sparse/0/cameras.bin\"\n",
    "img_bin = \"../data/floating-tree/colmap/sparse/0/images.bin\""
   ]
  },
  {
   "cell_type": "code",
   "execution_count": 5,
   "metadata": {},
   "outputs": [],
   "source": [
    "cameras = read_cameras_binary(cam_bin)\n",
    "images = read_images_binary(img_bin)"
   ]
  },
  {
   "cell_type": "code",
   "execution_count": 6,
   "metadata": {},
   "outputs": [
    {
     "name": "stdout",
     "output_type": "stream",
     "text": [
      "Camera(id=1, model='OPENCV_FISHEYE', width=3008, height=2000, params=array([1.07286938e+03, 1.07012675e+03, 1.48882120e+03, 9.97961085e+02,\n",
      "       3.04379074e-02, 6.11960086e-03, 3.85866040e-04, 1.11648459e-04]))\n"
     ]
    }
   ],
   "source": [
    "print(cameras[1])"
   ]
  },
  {
   "cell_type": "code",
   "execution_count": 9,
   "metadata": {},
   "outputs": [
    {
     "name": "stdout",
     "output_type": "stream",
     "text": [
      "Image(id=5, qvec=array([ 9.99973834e-01,  3.17811056e-04, -6.48128007e-03,  3.19730797e-03]), tvec=array([-4.28909829,  0.96744604,  0.04517974]), camera_id=1, name='frame_00005.JPG', xys=array([[6.53703796e+02, 2.88001609e+00],\n",
      "       [5.47748108e+02, 1.00258560e+01],\n",
      "       [4.69473511e+02, 1.11564188e+01],\n",
      "       ...,\n",
      "       [6.82505493e+02, 2.11609741e+03],\n",
      "       [4.27976270e+03, 1.71887097e+03],\n",
      "       [4.27976270e+03, 1.71887097e+03]]), point3D_ids=array([-1, -1, -1, ..., -1, -1, -1]))\n"
     ]
    }
   ],
   "source": [
    "print(images[5])"
   ]
  },
  {
   "cell_type": "code",
   "execution_count": null,
   "metadata": {},
   "outputs": [],
   "source": []
  }
 ],
 "metadata": {
  "kernelspec": {
   "display_name": "numeric",
   "language": "python",
   "name": "python3"
  },
  "language_info": {
   "codemirror_mode": {
    "name": "ipython",
    "version": 3
   },
   "file_extension": ".py",
   "mimetype": "text/x-python",
   "name": "python",
   "nbconvert_exporter": "python",
   "pygments_lexer": "ipython3",
   "version": "3.9.16"
  },
  "orig_nbformat": 4
 },
 "nbformat": 4,
 "nbformat_minor": 2
}
