{
 "cells": [
  {
   "cell_type": "code",
   "execution_count": 1,
   "metadata": {},
   "outputs": [],
   "source": [
    "import sys\n",
    "sys.path.append(\"..\")\n",
    "from utils.colmap.read import read_points3D_binary, read_cameras_binary, read_images_binary\n",
    "cam_bin = \"../data/floating-tree/colmap/sparse/0/cameras.bin\"\n",
    "img_bin = \"../data/floating-tree/colmap/sparse/0/images.bin\""
   ]
  },
  {
   "cell_type": "code",
   "execution_count": 2,
   "metadata": {},
   "outputs": [],
   "source": [
    "cameras = read_cameras_binary(cam_bin)\n",
    "images = read_images_binary(img_bin)"
   ]
  },
  {
   "cell_type": "code",
   "execution_count": 11,
   "metadata": {},
   "outputs": [
    {
     "name": "stdout",
     "output_type": "stream",
     "text": [
      "Camera(id=1, model='OPENCV_FISHEYE', width=3008, height=2000, params=array([1.07286938e+03, 1.07012675e+03, 1.48882120e+03, 9.97961085e+02,\n",
      "       3.04379074e-02, 6.11960086e-03, 3.85866040e-04, 1.11648459e-04]))\n"
     ]
    }
   ],
   "source": [
    "print(cameras[1])"
   ]
  },
  {
   "cell_type": "code",
   "execution_count": 12,
   "metadata": {},
   "outputs": [
    {
     "name": "stdout",
     "output_type": "stream",
     "text": [
      "Image(id=130, qvec=array([ 0.82491587, -0.0841147 , -0.51747673,  0.21132052]), tvec=array([-2.90062883, -0.91455952, -0.50633619]), camera_id=1, name='frame_00130.jpg', xys=array([[5.02214600e+02, 7.84316838e-01],\n",
      "       [7.06074829e+02, 4.92530060e+00],\n",
      "       [2.87160583e+02, 5.90325737e+00],\n",
      "       ...,\n",
      "       [1.02305273e+03, 1.56751074e+03],\n",
      "       [1.02305273e+03, 1.56751074e+03],\n",
      "       [1.49664343e+03, 1.69855237e+03]]), point3D_ids=array([-1, -1, -1, ..., -1, -1, -1]))\n"
     ]
    }
   ],
   "source": [
    "print(images[130])"
   ]
  },
  {
   "cell_type": "code",
   "execution_count": null,
   "metadata": {},
   "outputs": [],
   "source": []
  }
 ],
 "metadata": {
  "kernelspec": {
   "display_name": "numeric",
   "language": "python",
   "name": "python3"
  },
  "language_info": {
   "codemirror_mode": {
    "name": "ipython",
    "version": 3
   },
   "file_extension": ".py",
   "mimetype": "text/x-python",
   "name": "python",
   "nbconvert_exporter": "python",
   "pygments_lexer": "ipython3",
   "version": "3.8.15"
  },
  "orig_nbformat": 4
 },
 "nbformat": 4,
 "nbformat_minor": 2
}
