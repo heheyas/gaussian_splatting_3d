{
 "cells": [
  {
   "cell_type": "code",
   "execution_count": 1,
   "metadata": {},
   "outputs": [],
   "source": [
    "import sys\n",
    "sys.path.append(\"..\")\n",
    "from utils.colmap.read import read_points3D_binary, read_cameras_binary, read_images_binary\n",
    "cam_bin = \"../data/llff/colmap/sparse/0/cameras.bin\"\n",
    "img_bin = \"../data/llff/colmap/sparse/0/images.bin\""
   ]
  },
  {
   "cell_type": "code",
   "execution_count": 2,
   "metadata": {},
   "outputs": [],
   "source": [
    "cameras = read_cameras_binary(cam_bin)\n",
    "images = read_images_binary(img_bin)"
   ]
  },
  {
   "cell_type": "code",
   "execution_count": 3,
   "metadata": {},
   "outputs": [
    {
     "name": "stdout",
     "output_type": "stream",
     "text": [
      "Camera(id=1, model='OPENCV', width=4032, height=3024, params=array([ 3.35053061e+03,  3.38567294e+03,  2.04370212e+03,  1.51435998e+03,\n",
      "        3.83081055e-02, -3.62211445e-02, -5.83112129e-04,  2.31305104e-03]))\n"
     ]
    }
   ],
   "source": [
    "print(cameras[1])"
   ]
  },
  {
   "cell_type": "code",
   "execution_count": 4,
   "metadata": {},
   "outputs": [
    {
     "name": "stdout",
     "output_type": "stream",
     "text": [
      "Image(id=5, qvec=array([ 9.99973834e-01,  3.17811056e-04, -6.48128007e-03,  3.19730797e-03]), tvec=array([-4.28909829,  0.96744604,  0.04517974]), camera_id=1, name='frame_00005.JPG', xys=array([[6.53703796e+02, 2.88001609e+00],\n",
      "       [5.47748108e+02, 1.00258560e+01],\n",
      "       [4.69473511e+02, 1.11564188e+01],\n",
      "       ...,\n",
      "       [6.82505493e+02, 2.11609741e+03],\n",
      "       [4.27976270e+03, 1.71887097e+03],\n",
      "       [4.27976270e+03, 1.71887097e+03]]), point3D_ids=array([-1, -1, -1, ..., -1, -1, -1]))\n"
     ]
    }
   ],
   "source": [
    "print(images[5])"
   ]
  },
  {
   "cell_type": "code",
   "execution_count": null,
   "metadata": {},
   "outputs": [],
   "source": []
  }
 ],
 "metadata": {
  "kernelspec": {
   "display_name": "numeric",
   "language": "python",
   "name": "python3"
  },
  "language_info": {
   "codemirror_mode": {
    "name": "ipython",
    "version": 3
   },
   "file_extension": ".py",
   "mimetype": "text/x-python",
   "name": "python",
   "nbconvert_exporter": "python",
   "pygments_lexer": "ipython3",
   "version": "3.9.16"
  },
  "orig_nbformat": 4
 },
 "nbformat": 4,
 "nbformat_minor": 2
}
