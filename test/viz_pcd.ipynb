{
 "cells": [
  {
   "cell_type": "code",
   "execution_count": 4,
   "metadata": {},
   "outputs": [],
   "source": [
    "import torch\n",
    "import numpy as np\n",
    "import trimesh\n",
    "from trimesh.viewer import scene_to_notebook"
   ]
  },
  {
   "cell_type": "code",
   "execution_count": 5,
   "metadata": {},
   "outputs": [],
   "source": [
    "num_points = int(100e3)\n",
    "bounds = 1.5\n",
    "\n",
    "num_points = int(num_points)\n",
    "\n",
    "xyz = torch.randn((num_points, 3)).to(torch.float32)\n",
    "xyz = xyz.clamp(-bounds, bounds)\n",
    "xyz = xyz.numpy()\n",
    "\n",
    "rgb = torch.rand((num_points, 3)).to(torch.float32)\n",
    "rgb = rgb.clamp(0.001, 0.999)\n",
    "rgb = rgb.numpy()"
   ]
  },
  {
   "cell_type": "code",
   "execution_count": null,
   "metadata": {},
   "outputs": [],
   "source": [
    "scene = trimesh.Scene()\n",
    "pcd = trimesh.points.PointCloud(vertices=xyz, colors=rgb)\n",
    "scene.add_geometry(pcd)\n",
    "trimesh.viewer.notebook.scene_to_notebook(scene)"
   ]
  },
  {
   "cell_type": "code",
   "execution_count": null,
   "metadata": {},
   "outputs": [],
   "source": []
  }
 ],
 "metadata": {
  "kernelspec": {
   "display_name": "numeric",
   "language": "python",
   "name": "python3"
  },
  "language_info": {
   "codemirror_mode": {
    "name": "ipython",
    "version": 3
   },
   "file_extension": ".py",
   "mimetype": "text/x-python",
   "name": "python",
   "nbconvert_exporter": "python",
   "pygments_lexer": "ipython3",
   "version": "3.9.16"
  },
  "orig_nbformat": 4
 },
 "nbformat": 4,
 "nbformat_minor": 2
}
